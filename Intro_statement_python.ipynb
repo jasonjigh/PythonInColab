{
  "nbformat": 4,
  "nbformat_minor": 0,
  "metadata": {
    "colab": {
      "provenance": [],
      "toc_visible": true,
      "authorship_tag": "ABX9TyMPmF3wj72gDMvpKduEpn4j",
      "include_colab_link": true
    },
    "kernelspec": {
      "name": "python3",
      "display_name": "Python 3"
    },
    "language_info": {
      "name": "python"
    }
  },
  "cells": [
    {
      "cell_type": "markdown",
      "metadata": {
        "id": "view-in-github",
        "colab_type": "text"
      },
      "source": [
        "<a href=\"https://colab.research.google.com/github/jasonjigh/PythonInColab/blob/main/Intro_statement_python.ipynb\" target=\"_parent\"><img src=\"https://colab.research.google.com/assets/colab-badge.svg\" alt=\"Open In Colab\"/></a>"
      ]
    },
    {
      "cell_type": "markdown",
      "source": [
        "##Statements"
      ],
      "metadata": {
        "id": "QhwAGkeWtku0"
      }
    },
    {
      "cell_type": "code",
      "execution_count": null,
      "metadata": {
        "id": "8_LUs4RStfJm"
      },
      "outputs": [],
      "source": []
    },
    {
      "cell_type": "markdown",
      "source": [
        "### Hello World"
      ],
      "metadata": {
        "id": "0UbgzhB7t2jZ"
      }
    },
    {
      "cell_type": "code",
      "source": [
        "print(\"Hello World\")"
      ],
      "metadata": {
        "colab": {
          "base_uri": "https://localhost:8080/"
        },
        "id": "JvoMourvtjwv",
        "outputId": "135cc35f-c022-42f5-f811-bc9219985992"
      },
      "execution_count": 2,
      "outputs": [
        {
          "output_type": "stream",
          "name": "stdout",
          "text": [
            "Hello World\n"
          ]
        }
      ]
    },
    {
      "cell_type": "code",
      "source": [
        " x= 1\n",
        " y = 2\n",
        " result = x+ y\n",
        " print(f\"This is the result {result}\")"
      ],
      "metadata": {
        "colab": {
          "base_uri": "https://localhost:8080/"
        },
        "id": "I4XyNmvAwDAR",
        "outputId": "18f51f67-d3ed-4c97-b131-7881040e99f1"
      },
      "execution_count": 4,
      "outputs": [
        {
          "output_type": "stream",
          "name": "stdout",
          "text": [
            "This is the result 3\n"
          ]
        }
      ]
    },
    {
      "cell_type": "markdown",
      "source": [
        "### Data Structures"
      ],
      "metadata": {
        "id": "DRgItwarwZN0"
      }
    },
    {
      "cell_type": "markdown",
      "source": [],
      "metadata": {
        "id": "gomw6WXew2KL"
      }
    },
    {
      "cell_type": "markdown",
      "source": [
        "###### Lists"
      ],
      "metadata": {
        "id": "FWmeV_M9wf4q"
      }
    },
    {
      "cell_type": "code",
      "source": [
        "my_list = [] # Like a basket at the supermarket"
      ],
      "metadata": {
        "id": "M_RvxhFAwjmF"
      },
      "execution_count": 7,
      "outputs": []
    },
    {
      "cell_type": "code",
      "source": [
        "my_list.append(\"cherry\")"
      ],
      "metadata": {
        "id": "iKbSLCyRwuas"
      },
      "execution_count": 8,
      "outputs": []
    },
    {
      "cell_type": "code",
      "source": [
        "print(my_list)"
      ],
      "metadata": {
        "colab": {
          "base_uri": "https://localhost:8080/"
        },
        "id": "DcpQkGIww5JG",
        "outputId": "8319f446-9068-42be-c3f3-4e9457996095"
      },
      "execution_count": 9,
      "outputs": [
        {
          "output_type": "stream",
          "name": "stdout",
          "text": [
            "['cherry']\n"
          ]
        }
      ]
    },
    {
      "cell_type": "code",
      "source": [
        "my_list.append(\"apple\")"
      ],
      "metadata": {
        "id": "piJBLG5Azk59"
      },
      "execution_count": 10,
      "outputs": []
    },
    {
      "cell_type": "code",
      "source": [
        "print(my_list)"
      ],
      "metadata": {
        "colab": {
          "base_uri": "https://localhost:8080/"
        },
        "id": "kznzk511zsib",
        "outputId": "797f9d24-c2a4-404b-c2ea-28e9cb70b146"
      },
      "execution_count": 11,
      "outputs": [
        {
          "output_type": "stream",
          "name": "stdout",
          "text": [
            "['cherry', 'apple']\n"
          ]
        }
      ]
    },
    {
      "cell_type": "markdown",
      "source": [
        "##### Looping "
      ],
      "metadata": {
        "id": "EYAoNFtPzvgB"
      }
    },
    {
      "cell_type": "code",
      "source": [
        "for fruit in my_list:\n",
        "  print(f\"I love to seat this type of fruit: {fruit}\")"
      ],
      "metadata": {
        "colab": {
          "base_uri": "https://localhost:8080/"
        },
        "id": "5FH70qTTz24O",
        "outputId": "02a26219-9a39-4f29-9584-a82b3fdb4585"
      },
      "execution_count": 12,
      "outputs": [
        {
          "output_type": "stream",
          "name": "stdout",
          "text": [
            "I love to seat this type of fruit: cherry\n",
            "I love to seat this type of fruit: apple\n"
          ]
        }
      ]
    },
    {
      "cell_type": "markdown",
      "source": [
        "##### Push to list \n",
        "\n"
      ],
      "metadata": {
        "id": "Ve1vdQI30Gtt"
      }
    },
    {
      "cell_type": "code",
      "source": [
        "container = []\n",
        "\n",
        "for _ in range(5):\n",
        "    container.append(\"item\")"
      ],
      "metadata": {
        "id": "x1CZ1hPNKyGd"
      },
      "execution_count": 14,
      "outputs": []
    },
    {
      "cell_type": "code",
      "source": [
        "print(container)"
      ],
      "metadata": {
        "colab": {
          "base_uri": "https://localhost:8080/"
        },
        "id": "c4u2ETC4KgEW",
        "outputId": "59e3c56e-de06-4c9a-efe6-6c4ccbc7275a"
      },
      "execution_count": 15,
      "outputs": [
        {
          "output_type": "stream",
          "name": "stdout",
          "text": [
            "['item', 'item', 'item', 'item', 'item']\n"
          ]
        }
      ]
    },
    {
      "cell_type": "markdown",
      "source": [
        "##### Random push to container "
      ],
      "metadata": {
        "id": "g7nof7uKLB4k"
      }
    },
    {
      "cell_type": "code",
      "source": [
        "from random import choices"
      ],
      "metadata": {
        "id": "czgc5OkFMJyi"
      },
      "execution_count": 16,
      "outputs": []
    },
    {
      "cell_type": "code",
      "source": [
        "fruits = [\"apple\", \"cherry\", \"strawberryy\", \"peach\"]\n",
        "fruit_salad= []\n",
        "for _ in range(3):\n",
        "    fruit_salad.append(choices(fruits))\n",
        "print(f\"I enjoyed a fruit salad witht the following fruits:{fruit_salad}\")"
      ],
      "metadata": {
        "colab": {
          "base_uri": "https://localhost:8080/"
        },
        "id": "tdqxE_BwMM3S",
        "outputId": "f7e8ae46-dd6f-4f43-9287-79a4ff18881a"
      },
      "execution_count": 17,
      "outputs": [
        {
          "output_type": "stream",
          "name": "stdout",
          "text": [
            "I enjoyed a fruit salad witht the following fruits:[['apple'], ['peach'], ['peach']]\n"
          ]
        }
      ]
    },
    {
      "cell_type": "markdown",
      "source": [
        "#### Dictionaries"
      ],
      "metadata": {
        "id": "JAmKa2hzWtKU"
      }
    },
    {
      "cell_type": "code",
      "source": [
        "meals = {\"dinner\": \"steak\", \"lunch\":\"salad\"}"
      ],
      "metadata": {
        "id": "Jky0hdYNW3J4"
      },
      "execution_count": 18,
      "outputs": []
    },
    {
      "cell_type": "code",
      "source": [],
      "metadata": {
        "id": "ztCyBi7hW-rD"
      },
      "execution_count": null,
      "outputs": []
    }
  ]
}